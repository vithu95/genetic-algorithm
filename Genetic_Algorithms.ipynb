{
  "nbformat": 4,
  "nbformat_minor": 0,
  "metadata": {
    "colab": {
      "name": "Genetic Algorithms.ipynb",
      "provenance": [],
      "collapsed_sections": [],
      "include_colab_link": true
    },
    "kernelspec": {
      "name": "python3",
      "display_name": "Python 3"
    }
  },
  "cells": [
    {
      "cell_type": "markdown",
      "metadata": {
        "id": "view-in-github",
        "colab_type": "text"
      },
      "source": [
        "<a href=\"https://colab.research.google.com/github/vithu95/genetic-algorithm/blob/master/Genetic_Algorithms.ipynb\" target=\"_parent\"><img src=\"https://colab.research.google.com/assets/colab-badge.svg\" alt=\"Open In Colab\"/></a>"
      ]
    },
    {
      "cell_type": "code",
      "metadata": {
        "id": "LSOpGA67dhQg",
        "colab_type": "code",
        "outputId": "204910d7-ff8f-4217-9b7b-8ddc4f342cc2",
        "colab": {
          "base_uri": "https://localhost:8080/",
          "height": 173
        }
      },
      "source": [
        "!pip install prettyprint"
      ],
      "execution_count": 0,
      "outputs": [
        {
          "output_type": "stream",
          "text": [
            "Collecting prettyprint\n",
            "  Downloading https://files.pythonhosted.org/packages/13/9c/495a32e19f94fdd402bffc1c90abd84f2f604595ab480a3087dd77a94502/prettyprint-0.1.5.tar.gz\n",
            "Building wheels for collected packages: prettyprint\n",
            "  Building wheel for prettyprint (setup.py) ... \u001b[?25l\u001b[?25hdone\n",
            "  Created wheel for prettyprint: filename=prettyprint-0.1.5-cp36-none-any.whl size=3042 sha256=e11a8f6b72678b9cdb313d93cba81054677d183278e14ba983470625dd9398ca\n",
            "  Stored in directory: /root/.cache/pip/wheels/9e/79/19/8ef925fdc275044a78b6243438800941e85f8de8c3b7a6bcd1\n",
            "Successfully built prettyprint\n",
            "Installing collected packages: prettyprint\n",
            "Successfully installed prettyprint-0.1.5\n"
          ],
          "name": "stdout"
        }
      ]
    },
    {
      "cell_type": "code",
      "metadata": {
        "id": "YmjLXT-hOHEh",
        "colab_type": "code",
        "colab": {}
      },
      "source": [
        "import pandas as pd\n",
        "import numpy as np\n",
        "import random\n",
        "import string\n",
        "import matplotlib.pyplot as plt\n",
        "#pd.set_option('expand_frame_repr', False)\n",
        "import prettyprint\n",
        "#import pprint\n",
        "import time\n",
        "import datetime\n",
        "from sklearn.utils import shuffle\n",
        "import seaborn as sns\n"
      ],
      "execution_count": 0,
      "outputs": []
    },
    {
      "cell_type": "code",
      "metadata": {
        "id": "mJxrnmKgN2Wi",
        "colab_type": "code",
        "colab": {}
      },
      "source": [
        "#@title generation and population settings { run: \"auto\", vertical-output: true }\n",
        "generationSize = 2 #@param {type:\"slider\",max:100,step:2}\n",
        "populationSize = 2 #@param {type:\"slider\",max:100,step:2}\n",
        "mutationRate = 0.03 #@param {type:\"slider\",max:1,step:0.01}\n",
        "crossoverRate = 0.03 #@param {type:\"slider\",max:1,step:0.01}\n",
        "SEQ =\"0010110010\"#@param [\"0010110010\",\"10100110100101100101\", \"110010010010010010010011\",\"0010011000011000011000011\",\"000110011000001111111001100001100100\", \"001001100110000011111111110000001100110010011111\", \"11010101011110100010001000010001000101111010101011\"] \n",
        "directions = np.array ([(-1,0),(1,0),(0,-1),(0,1)])\n",
        "\n",
        "#SEQ10 = \"0010110010\"\n",
        "#SEQ20 = \"10100110100101100101\"\n",
        "#SEQ24 = \"110010010010010010010011\"\n",
        "#SEQ25 = \"0010011000011000011000011\"\n",
        "#SEQ36 = \"000110011000001111111001100001100100\"\n",
        "#SEQ48 = \"001001100110000011111111110000001100110010011111\"\n",
        "#SEQ50 = \"11010101011110100010001000010001000101111010101011\"\n",
        "#generationList = pd.DataFrame()\n",
        "    "
      ],
      "execution_count": 0,
      "outputs": []
    },
    {
      "cell_type": "code",
      "metadata": {
        "id": "j_CaBKiQAEuI",
        "colab_type": "code",
        "colab": {}
      },
      "source": [
        ""
      ],
      "execution_count": 0,
      "outputs": []
    },
    {
      "cell_type": "code",
      "metadata": {
        "id": "04qjcz4GOgH7",
        "colab_type": "code",
        "outputId": "4f61852d-803d-421d-8d22-685b0b990673",
        "colab": {
          "base_uri": "https://localhost:8080/",
          "height": 52
        }
      },
      "source": [
        ""
      ],
      "execution_count": 0,
      "outputs": [
        {
          "output_type": "stream",
          "text": [
            "0010011000011000011000011\n",
            "25\n"
          ],
          "name": "stdout"
        }
      ]
    },
    {
      "cell_type": "code",
      "metadata": {
        "id": "3zMehWmIeW8A",
        "colab_type": "code",
        "outputId": "28db2ab0-0bbb-468d-bdf7-53a4ab70db4a",
        "colab": {
          "base_uri": "https://localhost:8080/",
          "height": 434
        }
      },
      "source": [
        "class Dot:\n",
        "  def __init__ (self,pos,color):\n",
        "    self.pos = pos\n",
        "    self.color = color\n",
        "    self.connections = list()\n",
        "\n",
        "class DNA:\n",
        "  def __init__ (self):\n",
        "    self.arr = [directions[random.randint(0,3)] for x in range(len(SEQ) -1 )]\n",
        "    self.decode()\n",
        "    print('len(self.arr): ',len(self.arr))\n",
        "    print('len(self.positions): ',len(self.positions))\n",
        "    print('self.arr',self.arr)\n",
        "    \n",
        "    \n",
        "  def decode(self):\n",
        "    self.positions = list()\n",
        "    for index in range(len(SEQ)):\n",
        "      position = np.array([0,0])+ sum(self.arr[:index])      \n",
        "      dot = Dot(position,SEQ[index])\n",
        "      print('index',index)\n",
        "      self.positions.append(dot)\n",
        "    for i in range(len(self.positions)):\n",
        "      print(self.positions[i].pos)\n",
        "      try:\n",
        "        print(mylist[x])\n",
        "      except:\n",
        "        pass\n",
        "\n",
        "\n",
        "\n",
        "\n",
        "\n",
        "      if i == 0:\n",
        "        self.positions[i].connections.append(self.positions[i+1].pos)\n",
        "      elif i ==  len(self.positions)-1 :\n",
        "        self.positions[i].connections.append(self.positions[i-1].pos)\n",
        "      else:  \n",
        "        self.positions[i].connections.append(self.positions[i+1].pos)\n",
        "        self.positions[i].connections.append(self.positions[i-1].pos)\n",
        "      \n",
        "                     \n",
        "\n",
        "\n",
        "\n",
        "    \n",
        "\n",
        "\n",
        "      \n",
        "\n",
        "      \n",
        "      \n",
        "    \n",
        "\n",
        "  def plot(self):\n",
        "    g = sns.FacetGrid(pd.DataFrame(self.positions,columns=[\"x\",\"y\"]), size=8)\n",
        "    g.map(plt.scatter, \"x\", \"y\")\n",
        "    g.map(plt.plot, \"x\", \"y\")  \n",
        "\n",
        "a = DNA()\n",
        "print(len(a.positions))\n",
        "assert len(a.positions) == len(SEQ)"
      ],
      "execution_count": 0,
      "outputs": [
        {
          "output_type": "stream",
          "text": [
            "index 0\n",
            "index 1\n",
            "index 2\n",
            "index 3\n",
            "index 4\n",
            "index 5\n",
            "index 6\n",
            "index 7\n",
            "index 8\n",
            "index 9\n",
            "[0 0]\n",
            "[1 0]\n",
            "[2 0]\n",
            "[1 0]\n",
            "[ 1 -1]\n",
            "[ 1 -2]\n",
            "[ 2 -2]\n",
            "[ 1 -2]\n",
            "[ 2 -2]\n",
            "[ 3 -2]\n",
            "len(self.arr):  9\n",
            "len(self.positions):  10\n",
            "self.arr [array([1, 0]), array([1, 0]), array([-1,  0]), array([ 0, -1]), array([ 0, -1]), array([1, 0]), array([-1,  0]), array([1, 0]), array([1, 0])]\n",
            "10\n"
          ],
          "name": "stdout"
        }
      ]
    },
    {
      "cell_type": "code",
      "metadata": {
        "id": "QWiurDN2OLwO",
        "colab_type": "code",
        "colab": {}
      },
      "source": [
        "for generation in range(generationSize):\n",
        "  print('generation',generation)\n",
        "  population_array=list()\n",
        "  for population in range(populationSize):\n",
        "    print(generation,population)\n",
        "    population_array.append(DNA())\n"
      ],
      "execution_count": 0,
      "outputs": []
    },
    {
      "cell_type": "code",
      "metadata": {
        "id": "ADPCcwVyIqyK",
        "colab_type": "code",
        "colab": {}
      },
      "source": [
        ""
      ],
      "execution_count": 0,
      "outputs": []
    },
    {
      "cell_type": "code",
      "metadata": {
        "colab_type": "code",
        "id": "25-_LlKX_lIU",
        "colab": {}
      },
      "source": [
        "\n",
        "def crossover(dnaA,dnaB):\n",
        "  assert(len(dnaA)==len(dnaB))\n",
        "  i = random.randint(0,len(a.arr)-1)\n",
        "  return (dnaA.arr[:i]+dnaB.arr[i:],dnaB.arr[:i]+dnaA.arr[i:])"
      ],
      "execution_count": 0,
      "outputs": []
    },
    {
      "cell_type": "code",
      "metadata": {
        "id": "57_iZbSZNfpg",
        "colab_type": "code",
        "colab": {}
      },
      "source": [
        "def mutation(dna):\n",
        "  i = random.randint(0,len(a.arr)-1)\n",
        "  dna.arr[i] = directions[random.randint(0,3)]\n",
        "  return dna"
      ],
      "execution_count": 0,
      "outputs": []
    },
    {
      "cell_type": "code",
      "metadata": {
        "id": "4a2g9LSKNSaT",
        "colab_type": "code",
        "colab": {}
      },
      "source": [
        "#def fitnes(gene):\n",
        "#  pass\n",
        "\n",
        "def fitness(df):\n",
        "  \n",
        "\n",
        "  score = 0\n",
        "  #print (df)\n",
        "  df = df.drop_duplicates(['x','y'],keep=False)\n",
        "  #if True in df[['X','Y']].duplicated().tolist():\n",
        "  #  return 0.1\n",
        "  #print (df)\n",
        "  #print('--------------------------------------------')\n",
        "  \n",
        "  for i in range(len(df)):\n",
        "    if df.iloc[i]['Value'] == '1':\n",
        "      n=df.iloc[i]['N']\n",
        "      x=df.iloc[i]['X']\n",
        "      y=df.iloc[i]['Y']\n",
        "      dfNew = df[ \n",
        "                 ((df['X'] ==x+1) &(df['Y'] == y)|\n",
        "                  (df['X'] ==x-1) &(df['Y'] == y)|\n",
        "                  (df['X'] ==x) &(df['Y'] == y+1)|\n",
        "                  (df['X'] ==x) &(df['Y'] == y-1))&   \n",
        "                 (df['Value']=='1')& \n",
        "                 (df['N'] != n-1)& \n",
        "                 (df['N'] != n+1) & \n",
        "                 (df['N'] != n)]\n",
        "      score += len(dfNew)\n",
        "          \n",
        "  return int(score/2)"
      ],
      "execution_count": 0,
      "outputs": []
    },
    {
      "cell_type": "code",
      "metadata": {
        "id": "9wb01j9ZRtKv",
        "colab_type": "code",
        "colab": {}
      },
      "source": [
        "np.numarray([1,2])"
      ],
      "execution_count": 0,
      "outputs": []
    },
    {
      "cell_type": "code",
      "metadata": {
        "id": "FHi--IJiHONf",
        "colab_type": "code",
        "colab": {}
      },
      "source": [
        "pd.DataFrame(a.positions,columns=[\"x\",\"y\"])"
      ],
      "execution_count": 0,
      "outputs": []
    },
    {
      "cell_type": "code",
      "metadata": {
        "id": "3gBOm4LjHUu-",
        "colab_type": "code",
        "outputId": "de0a3716-0a42-419d-9b7a-144c9a67e585",
        "colab": {
          "base_uri": "https://localhost:8080/",
          "height": 252
        }
      },
      "source": [
        "a = DNA()\n",
        "i = random.randint(0,len(a.arr)-1)\n",
        "print(i)\n",
        "\n",
        "print(a.arr[:i]+a.arr[i:])\n",
        "\n",
        "\n"
      ],
      "execution_count": 0,
      "outputs": [
        {
          "output_type": "stream",
          "text": [
            "9\n"
          ],
          "name": "stdout"
        },
        {
          "output_type": "error",
          "ename": "NameError",
          "evalue": "ignored",
          "traceback": [
            "\u001b[0;31m---------------------------------------------------------------------------\u001b[0m",
            "\u001b[0;31mNameError\u001b[0m                                 Traceback (most recent call last)",
            "\u001b[0;32m<ipython-input-235-27f3739ae9be>\u001b[0m in \u001b[0;36m<module>\u001b[0;34m()\u001b[0m\n\u001b[1;32m      2\u001b[0m \u001b[0mi\u001b[0m \u001b[0;34m=\u001b[0m \u001b[0mrandom\u001b[0m\u001b[0;34m.\u001b[0m\u001b[0mrandint\u001b[0m\u001b[0;34m(\u001b[0m\u001b[0;36m0\u001b[0m\u001b[0;34m,\u001b[0m\u001b[0mlen\u001b[0m\u001b[0;34m(\u001b[0m\u001b[0ma\u001b[0m\u001b[0;34m.\u001b[0m\u001b[0marr\u001b[0m\u001b[0;34m)\u001b[0m\u001b[0;34m-\u001b[0m\u001b[0;36m1\u001b[0m\u001b[0;34m)\u001b[0m\u001b[0;34m\u001b[0m\u001b[0;34m\u001b[0m\u001b[0m\n\u001b[1;32m      3\u001b[0m \u001b[0mprint\u001b[0m\u001b[0;34m(\u001b[0m\u001b[0mi\u001b[0m\u001b[0;34m)\u001b[0m\u001b[0;34m\u001b[0m\u001b[0;34m\u001b[0m\u001b[0m\n\u001b[0;32m----> 4\u001b[0;31m \u001b[0;32massert\u001b[0m\u001b[0;34m(\u001b[0m\u001b[0mlen\u001b[0m\u001b[0;34m(\u001b[0m\u001b[0mdnaA\u001b[0m\u001b[0;34m)\u001b[0m\u001b[0;34m==\u001b[0m\u001b[0mlen\u001b[0m\u001b[0;34m(\u001b[0m\u001b[0mdnaB\u001b[0m\u001b[0;34m)\u001b[0m\u001b[0;34m)\u001b[0m\u001b[0;34m\u001b[0m\u001b[0;34m\u001b[0m\u001b[0m\n\u001b[0m\u001b[1;32m      5\u001b[0m \u001b[0mprint\u001b[0m\u001b[0;34m(\u001b[0m\u001b[0ma\u001b[0m\u001b[0;34m.\u001b[0m\u001b[0marr\u001b[0m\u001b[0;34m[\u001b[0m\u001b[0;34m:\u001b[0m\u001b[0mi\u001b[0m\u001b[0;34m]\u001b[0m\u001b[0;34m+\u001b[0m\u001b[0ma\u001b[0m\u001b[0;34m.\u001b[0m\u001b[0marr\u001b[0m\u001b[0;34m[\u001b[0m\u001b[0mi\u001b[0m\u001b[0;34m:\u001b[0m\u001b[0;34m]\u001b[0m\u001b[0;34m)\u001b[0m\u001b[0;34m\u001b[0m\u001b[0;34m\u001b[0m\u001b[0m\n\u001b[1;32m      6\u001b[0m \u001b[0;34m\u001b[0m\u001b[0m\n",
            "\u001b[0;31mNameError\u001b[0m: name 'dnaA' is not defined"
          ]
        }
      ]
    },
    {
      "cell_type": "code",
      "metadata": {
        "id": "zwwmPEEPlUAx",
        "colab_type": "code",
        "outputId": "24645a28-175b-4ee8-e217-8319b1f42619",
        "colab": {
          "base_uri": "https://localhost:8080/",
          "height": 34
        }
      },
      "source": [
        ""
      ],
      "execution_count": 0,
      "outputs": [
        {
          "output_type": "stream",
          "text": [
            "hi\n"
          ],
          "name": "stdout"
        }
      ]
    },
    {
      "cell_type": "code",
      "metadata": {
        "id": "5pyakS-WZOZ1",
        "colab_type": "code",
        "colab": {}
      },
      "source": [
        ""
      ],
      "execution_count": 0,
      "outputs": []
    },
    {
      "cell_type": "code",
      "metadata": {
        "id": "vfQhIclmZTb9",
        "colab_type": "code",
        "colab": {}
      },
      "source": [
        "mylist = [1,2,3,4,5,6,7]"
      ],
      "execution_count": 0,
      "outputs": []
    },
    {
      "cell_type": "code",
      "metadata": {
        "id": "qvuhuiPEZUxb",
        "colab_type": "code",
        "outputId": "9d2168fc-f59c-4c8b-a8db-e89c94a65ab2",
        "colab": {
          "base_uri": "https://localhost:8080/",
          "height": 139
        }
      },
      "source": [
        "for x in range(10):\n",
        "  try:\n",
        "    print(mylist[x])\n",
        "  except:\n",
        "    pass"
      ],
      "execution_count": 0,
      "outputs": [
        {
          "output_type": "stream",
          "text": [
            "1\n",
            "2\n",
            "3\n",
            "4\n",
            "5\n",
            "6\n",
            "7\n"
          ],
          "name": "stdout"
        }
      ]
    },
    {
      "cell_type": "code",
      "metadata": {
        "id": "eziopEAU3yXS",
        "colab_type": "code",
        "colab": {}
      },
      "source": [
        ""
      ],
      "execution_count": 0,
      "outputs": []
    }
  ]
}